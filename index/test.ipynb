{
 "cells": [
  {
   "cell_type": "code",
   "execution_count": 1,
   "metadata": {},
   "outputs": [],
   "source": [
    "import re\n",
    "import pandas as pd\n",
    "import numpy as np\n",
    "import csv\n",
    "\n",
    "import pylsh"
   ]
  },
  {
   "cell_type": "code",
   "execution_count": 2,
   "metadata": {},
   "outputs": [],
   "source": [
    "cropped_embeddings_path = 'data/cropped_embeddings.csv'\n",
    "split_file_path = b'data/split.txt'\n",
    "index_dir_path = b'data/index/'\n",
    "index_embedding_path = b'data/index_embedding.txt'"
   ]
  },
  {
   "cell_type": "code",
   "execution_count": 3,
   "metadata": {},
   "outputs": [],
   "source": [
    "embeddings = pd.read_csv(cropped_embeddings_path, names=['index', 'embedding'], dtype=str, skiprows=1)"
   ]
  },
  {
   "cell_type": "code",
   "execution_count": 4,
   "metadata": {},
   "outputs": [],
   "source": [
    "embeddings['float_values'] = embeddings.embedding.apply(lambda x: re.sub(' +', ' ', str(x).replace('\\n', ' ')\n",
    "                                                                         ).replace('[', '') \\\n",
    "                                                                          .replace(']', '') \\\n",
    "                                                                          .split(' '))"
   ]
  },
  {
   "cell_type": "code",
   "execution_count": 5,
   "metadata": {},
   "outputs": [
    {
     "data": {
      "text/html": [
       "<div>\n",
       "<style scoped>\n",
       "    .dataframe tbody tr th:only-of-type {\n",
       "        vertical-align: middle;\n",
       "    }\n",
       "\n",
       "    .dataframe tbody tr th {\n",
       "        vertical-align: top;\n",
       "    }\n",
       "\n",
       "    .dataframe thead th {\n",
       "        text-align: right;\n",
       "    }\n",
       "</style>\n",
       "<table border=\"1\" class=\"dataframe\">\n",
       "  <thead>\n",
       "    <tr style=\"text-align: right;\">\n",
       "      <th></th>\n",
       "      <th>index</th>\n",
       "      <th>embedding</th>\n",
       "      <th>float_values</th>\n",
       "    </tr>\n",
       "  </thead>\n",
       "  <tbody>\n",
       "    <tr>\n",
       "      <th>0</th>\n",
       "      <td>1</td>\n",
       "      <td>[-0.00301999  0.0510758   0.04308595 -0.005932...</td>\n",
       "      <td>[-0.00301999, 0.0510758, 0.04308595, -0.005932...</td>\n",
       "    </tr>\n",
       "    <tr>\n",
       "      <th>1</th>\n",
       "      <td>10</td>\n",
       "      <td>[ 0.01945611  0.04246898 -0.00241216  0.040463...</td>\n",
       "      <td>[, 0.01945611, 0.04246898, -0.00241216, 0.0404...</td>\n",
       "    </tr>\n",
       "    <tr>\n",
       "      <th>2</th>\n",
       "      <td>100</td>\n",
       "      <td>[-9.91559122e-03  2.22526155e-02  4.15497459e-...</td>\n",
       "      <td>[-9.91559122e-03, 2.22526155e-02, 4.15497459e-...</td>\n",
       "    </tr>\n",
       "    <tr>\n",
       "      <th>3</th>\n",
       "      <td>1000</td>\n",
       "      <td>[-3.04850154e-02  6.80603534e-02 -2.93288846e-...</td>\n",
       "      <td>[-3.04850154e-02, 6.80603534e-02, -2.93288846e...</td>\n",
       "    </tr>\n",
       "    <tr>\n",
       "      <th>4</th>\n",
       "      <td>10000</td>\n",
       "      <td>[-3.56857199e-05  4.94700558e-02  1.73347201e-...</td>\n",
       "      <td>[-3.56857199e-05, 4.94700558e-02, 1.73347201e-...</td>\n",
       "    </tr>\n",
       "    <tr>\n",
       "      <th>5</th>\n",
       "      <td>100000</td>\n",
       "      <td>[ 0.02381319  0.04973418  0.04007106  0.014619...</td>\n",
       "      <td>[, 0.02381319, 0.04973418, 0.04007106, 0.01461...</td>\n",
       "    </tr>\n",
       "    <tr>\n",
       "      <th>6</th>\n",
       "      <td>100001</td>\n",
       "      <td>[-2.47265808e-02  1.49183171e-02  8.71975441e-...</td>\n",
       "      <td>[-2.47265808e-02, 1.49183171e-02, 8.71975441e-...</td>\n",
       "    </tr>\n",
       "    <tr>\n",
       "      <th>7</th>\n",
       "      <td>100002</td>\n",
       "      <td>[ 2.65965499e-02 -1.37683144e-03  1.59688629e-...</td>\n",
       "      <td>[, 2.65965499e-02, -1.37683144e-03, 1.59688629...</td>\n",
       "    </tr>\n",
       "    <tr>\n",
       "      <th>8</th>\n",
       "      <td>100003</td>\n",
       "      <td>[-0.01658495 -0.00984316  0.05020769  0.043040...</td>\n",
       "      <td>[-0.01658495, -0.00984316, 0.05020769, 0.04304...</td>\n",
       "    </tr>\n",
       "    <tr>\n",
       "      <th>9</th>\n",
       "      <td>100004</td>\n",
       "      <td>[-1.57158952e-02  8.00136849e-02  6.90357713e-...</td>\n",
       "      <td>[-1.57158952e-02, 8.00136849e-02, 6.90357713e-...</td>\n",
       "    </tr>\n",
       "  </tbody>\n",
       "</table>\n",
       "</div>"
      ],
      "text/plain": [
       "    index                                          embedding  \\\n",
       "0       1  [-0.00301999  0.0510758   0.04308595 -0.005932...   \n",
       "1      10  [ 0.01945611  0.04246898 -0.00241216  0.040463...   \n",
       "2     100  [-9.91559122e-03  2.22526155e-02  4.15497459e-...   \n",
       "3    1000  [-3.04850154e-02  6.80603534e-02 -2.93288846e-...   \n",
       "4   10000  [-3.56857199e-05  4.94700558e-02  1.73347201e-...   \n",
       "5  100000  [ 0.02381319  0.04973418  0.04007106  0.014619...   \n",
       "6  100001  [-2.47265808e-02  1.49183171e-02  8.71975441e-...   \n",
       "7  100002  [ 2.65965499e-02 -1.37683144e-03  1.59688629e-...   \n",
       "8  100003  [-0.01658495 -0.00984316  0.05020769  0.043040...   \n",
       "9  100004  [-1.57158952e-02  8.00136849e-02  6.90357713e-...   \n",
       "\n",
       "                                        float_values  \n",
       "0  [-0.00301999, 0.0510758, 0.04308595, -0.005932...  \n",
       "1  [, 0.01945611, 0.04246898, -0.00241216, 0.0404...  \n",
       "2  [-9.91559122e-03, 2.22526155e-02, 4.15497459e-...  \n",
       "3  [-3.04850154e-02, 6.80603534e-02, -2.93288846e...  \n",
       "4  [-3.56857199e-05, 4.94700558e-02, 1.73347201e-...  \n",
       "5  [, 0.02381319, 0.04973418, 0.04007106, 0.01461...  \n",
       "6  [-2.47265808e-02, 1.49183171e-02, 8.71975441e-...  \n",
       "7  [, 2.65965499e-02, -1.37683144e-03, 1.59688629...  \n",
       "8  [-0.01658495, -0.00984316, 0.05020769, 0.04304...  \n",
       "9  [-1.57158952e-02, 8.00136849e-02, 6.90357713e-...  "
      ]
     },
     "execution_count": 5,
     "metadata": {},
     "output_type": "execute_result"
    }
   ],
   "source": [
    "embeddings[:10]"
   ]
  },
  {
   "cell_type": "code",
   "execution_count": 7,
   "metadata": {},
   "outputs": [],
   "source": [
    "embeddings['float_values'] = \\\n",
    "    embeddings['float_values'].apply(lambda x:np.array(list(map(float, [item for item in x if item != '']))))"
   ]
  },
  {
   "cell_type": "code",
   "execution_count": 8,
   "metadata": {},
   "outputs": [],
   "source": [
    "embeddings[\"index\"] = embeddings[\"index\"].apply(int)"
   ]
  },
  {
   "cell_type": "code",
   "execution_count": 9,
   "metadata": {},
   "outputs": [
    {
     "data": {
      "text/plain": [
       "128"
      ]
     },
     "execution_count": 9,
     "metadata": {},
     "output_type": "execute_result"
    }
   ],
   "source": [
    "len(embeddings.float_values[0])"
   ]
  },
  {
   "cell_type": "code",
   "execution_count": 10,
   "metadata": {},
   "outputs": [],
   "source": [
    "embeddings_list = embeddings.float_values.values.tolist()"
   ]
  },
  {
   "cell_type": "code",
   "execution_count": 11,
   "metadata": {},
   "outputs": [
    {
     "data": {
      "text/plain": [
       "157220"
      ]
     },
     "execution_count": 11,
     "metadata": {},
     "output_type": "execute_result"
    }
   ],
   "source": [
    "len(embeddings.values)"
   ]
  },
  {
   "cell_type": "code",
   "execution_count": 12,
   "metadata": {},
   "outputs": [],
   "source": [
    "index = pylsh.PyLSH(50, 64, 128)"
   ]
  },
  {
   "cell_type": "code",
   "execution_count": 11,
   "metadata": {},
   "outputs": [],
   "source": [
    "index.create_splits()"
   ]
  },
  {
   "cell_type": "code",
   "execution_count": 12,
   "metadata": {},
   "outputs": [
    {
     "data": {
      "text/plain": [
       "True"
      ]
     },
     "execution_count": 12,
     "metadata": {},
     "output_type": "execute_result"
    }
   ],
   "source": [
    "index.write_planes_to_file(split_file_path)"
   ]
  },
  {
   "cell_type": "code",
   "execution_count": 13,
   "metadata": {},
   "outputs": [
    {
     "name": "stdout",
     "output_type": "stream",
     "text": [
      "0\n",
      "10000\n",
      "20000\n",
      "30000\n",
      "40000\n",
      "50000\n",
      "60000\n",
      "70000\n",
      "80000\n",
      "90000\n",
      "100000\n",
      "110000\n",
      "120000\n",
      "130000\n",
      "140000\n",
      "150000\n"
     ]
    }
   ],
   "source": [
    "for i, (img_id, cur_emb) in enumerate(zip(embeddings[\"index\"], embeddings.float_values)):\n",
    "    index.add_to_table(img_id, cur_emb)\n",
    "    if i % 10000 == 0:\n",
    "        print(i)"
   ]
  },
  {
   "cell_type": "code",
   "execution_count": 14,
   "metadata": {},
   "outputs": [
    {
     "data": {
      "text/plain": [
       "True"
      ]
     },
     "execution_count": 14,
     "metadata": {},
     "output_type": "execute_result"
    }
   ],
   "source": [
    "index.write_hash_tables_to_files(index_dir_path)"
   ]
  },
  {
   "cell_type": "code",
   "execution_count": 31,
   "metadata": {},
   "outputs": [
    {
     "data": {
      "text/plain": [
       "True"
      ]
     },
     "execution_count": 31,
     "metadata": {},
     "output_type": "execute_result"
    }
   ],
   "source": [
    "index.write_index_embedding_dict(index_embedding_path)"
   ]
  },
  {
   "cell_type": "markdown",
   "metadata": {},
   "source": [
    "## А теперь найдем для них соседей"
   ]
  },
  {
   "cell_type": "code",
   "execution_count": 16,
   "metadata": {},
   "outputs": [
    {
     "data": {
      "text/plain": [
       "[100120, 45219, 50651, 68909, 100029, 61702, 124220]"
      ]
     },
     "execution_count": 16,
     "metadata": {},
     "output_type": "execute_result"
    }
   ],
   "source": [
    "bad = index.find_k_neighbors(7, embeddings.loc[127, 'float_values'])\n",
    "bad"
   ]
  },
  {
   "cell_type": "code",
   "execution_count": 17,
   "metadata": {},
   "outputs": [
    {
     "data": {
      "text/plain": [
       "[100120, 45219, 67362, 141735, 50651, 127517, 68909]"
      ]
     },
     "execution_count": 17,
     "metadata": {},
     "output_type": "execute_result"
    }
   ],
   "source": [
    "good = index.dummy_k_neighbors(7, embeddings[\"index\"].values.tolist(), embeddings_list, \\\n",
    "                               embeddings.loc[127, 'float_values'])\n",
    "good"
   ]
  },
  {
   "cell_type": "code",
   "execution_count": 18,
   "metadata": {},
   "outputs": [
    {
     "data": {
      "text/plain": [
       "4"
      ]
     },
     "execution_count": 18,
     "metadata": {},
     "output_type": "execute_result"
    }
   ],
   "source": [
    "len(set(bad) & set(good))"
   ]
  },
  {
   "cell_type": "code",
   "execution_count": 19,
   "metadata": {},
   "outputs": [
    {
     "data": {
      "text/plain": [
       "0.021102933444075878"
      ]
     },
     "execution_count": 19,
     "metadata": {},
     "output_type": "execute_result"
    }
   ],
   "source": [
    "index.calculate_distance(embeddings.loc[127, 'float_values'], embeddings.loc[35, 'float_values'])"
   ]
  },
  {
   "cell_type": "code",
   "execution_count": 20,
   "metadata": {},
   "outputs": [
    {
     "data": {
      "text/plain": [
       "0.0"
      ]
     },
     "execution_count": 20,
     "metadata": {},
     "output_type": "execute_result"
    }
   ],
   "source": [
    "index.calculate_distance(embeddings.loc[127, 'float_values'], embeddings.loc[127, 'float_values'])"
   ]
  },
  {
   "cell_type": "code",
   "execution_count": 21,
   "metadata": {},
   "outputs": [
    {
     "data": {
      "text/plain": [
       "0.02166589198561819"
      ]
     },
     "execution_count": 21,
     "metadata": {},
     "output_type": "execute_result"
    }
   ],
   "source": [
    "index.calculate_distance(embeddings.loc[127, 'float_values'], embeddings.loc[23882, 'float_values'])"
   ]
  },
  {
   "cell_type": "markdown",
   "metadata": {},
   "source": [
    "### 4 из 7 ближайших соседей совпадают с результатом полного перебора."
   ]
  },
  {
   "cell_type": "markdown",
   "metadata": {},
   "source": [
    "## А теперь сделаем тоже самое, но на большем числе примеров"
   ]
  },
  {
   "cell_type": "code",
   "execution_count": 17,
   "metadata": {},
   "outputs": [
    {
     "name": "stdout",
     "output_type": "stream",
     "text": [
      "0: 6.000000\n",
      "10: 4.181818\n",
      "20: 3.761905\n",
      "30: 3.838710\n",
      "40: 3.902439\n",
      "50: 4.000000\n",
      "60: 3.983607\n",
      "70: 3.985915\n",
      "80: 4.160494\n",
      "90: 4.153846\n",
      "99: 4.110000\n"
     ]
    }
   ],
   "source": [
    "intersection_results = []\n",
    "for i in range(100):\n",
    "    approx = index.find_k_neighbors(7, embeddings.loc[i, 'float_values'])\n",
    "    accurate = index.dummy_k_neighbors(7, embeddings[\"index\"].values.tolist(), embeddings_list, \\\n",
    "                               embeddings.loc[i, 'float_values'])\n",
    "    intersection_results.append(len(set(approx) & set(accurate)))\n",
    "    if i % 10 == 0:\n",
    "        print(\"%d: %f\" % (i, np.mean(intersection_results)))\n",
    "print(\"%d: %f\" % (i, np.mean(intersection_results)))"
   ]
  },
  {
   "cell_type": "markdown",
   "metadata": {},
   "source": [
    "### Тоже самое - 4 из 7 - not bad!"
   ]
  },
  {
   "cell_type": "markdown",
   "metadata": {},
   "source": [
    "## Сравним скорость:"
   ]
  },
  {
   "cell_type": "code",
   "execution_count": 37,
   "metadata": {},
   "outputs": [
    {
     "name": "stdout",
     "output_type": "stream",
     "text": [
      "2.63 ms ± 530 µs per loop (mean ± std. dev. of 7 runs, 100 loops each)\n"
     ]
    }
   ],
   "source": [
    "%timeit index.find_k_neighbors(7, embeddings.loc[0, 'float_values'])"
   ]
  },
  {
   "cell_type": "code",
   "execution_count": 35,
   "metadata": {
    "scrolled": true
   },
   "outputs": [
    {
     "name": "stdout",
     "output_type": "stream",
     "text": [
      "1.48 s ± 18.4 ms per loop (mean ± std. dev. of 7 runs, 1 loop each)\n"
     ]
    }
   ],
   "source": [
    "%timeit index.dummy_k_neighbors(7, embeddings[\"index\"].values.tolist(), embeddings_list, \\\n",
    "                         embeddings.loc[0, 'float_values'])"
   ]
  },
  {
   "cell_type": "markdown",
   "metadata": {},
   "source": [
    "### Наш приближенный метод в среднем работает в 500 раза быстрее, чем полный перебор."
   ]
  },
  {
   "cell_type": "markdown",
   "metadata": {},
   "source": [
    "## Проверю как работает инициализация lsh данными с диска"
   ]
  },
  {
   "cell_type": "code",
   "execution_count": 13,
   "metadata": {},
   "outputs": [],
   "source": [
    "index2 = pylsh.PyLSH(50, 64, 128)"
   ]
  },
  {
   "cell_type": "code",
   "execution_count": 14,
   "metadata": {},
   "outputs": [
    {
     "data": {
      "text/plain": [
       "True"
      ]
     },
     "execution_count": 14,
     "metadata": {},
     "output_type": "execute_result"
    }
   ],
   "source": [
    "index2.fill_data_from_files(planes_path=split_file_path, hash_tables_dir_path=index_dir_path,\n",
    "                           index_embedding_dict_path=index_embedding_path)"
   ]
  },
  {
   "cell_type": "code",
   "execution_count": 13,
   "metadata": {},
   "outputs": [
    {
     "data": {
      "text/plain": [
       "[100, 39978, 177125, 120841, 164724, 127443, 176512, 16127, 161785, 136383]"
      ]
     },
     "execution_count": 13,
     "metadata": {},
     "output_type": "execute_result"
    }
   ],
   "source": [
    "approx2 = index2.find_k_neighbors(10, embeddings.loc[2, 'float_values'])\n",
    "approx2"
   ]
  },
  {
   "cell_type": "code",
   "execution_count": 14,
   "metadata": {
    "collapsed": true
   },
   "outputs": [
    {
     "ename": "NameError",
     "evalue": "name 'index' is not defined",
     "output_type": "error",
     "traceback": [
      "\u001b[0;31m---------------------------------------------------------------------------\u001b[0m",
      "\u001b[0;31mNameError\u001b[0m                                 Traceback (most recent call last)",
      "\u001b[0;32m<ipython-input-14-f1fd8dd2d91e>\u001b[0m in \u001b[0;36m<module>\u001b[0;34m()\u001b[0m\n\u001b[0;32m----> 1\u001b[0;31m \u001b[0mapprox\u001b[0m \u001b[0;34m=\u001b[0m \u001b[0mindex\u001b[0m\u001b[0;34m.\u001b[0m\u001b[0mfind_k_neighbors\u001b[0m\u001b[0;34m(\u001b[0m\u001b[0;36m10\u001b[0m\u001b[0;34m,\u001b[0m \u001b[0membeddings\u001b[0m\u001b[0;34m.\u001b[0m\u001b[0mloc\u001b[0m\u001b[0;34m[\u001b[0m\u001b[0;36m2\u001b[0m\u001b[0;34m,\u001b[0m \u001b[0;34m'float_values'\u001b[0m\u001b[0;34m]\u001b[0m\u001b[0;34m)\u001b[0m\u001b[0;34m\u001b[0m\u001b[0m\n\u001b[0m\u001b[1;32m      2\u001b[0m \u001b[0mapprox\u001b[0m\u001b[0;34m\u001b[0m\u001b[0m\n",
      "\u001b[0;31mNameError\u001b[0m: name 'index' is not defined"
     ]
    }
   ],
   "source": [
    "approx = index.find_k_neighbors(10, embeddings.loc[2, 'float_values'])\n",
    "approx"
   ]
  },
  {
   "cell_type": "code",
   "execution_count": 30,
   "metadata": {},
   "outputs": [
    {
     "data": {
      "text/plain": [
       "True"
      ]
     },
     "execution_count": 30,
     "metadata": {},
     "output_type": "execute_result"
    }
   ],
   "source": [
    "approx == approx2"
   ]
  },
  {
   "cell_type": "code",
   "execution_count": null,
   "metadata": {},
   "outputs": [],
   "source": []
  }
 ],
 "metadata": {
  "kernelspec": {
   "display_name": "Python 3",
   "language": "python",
   "name": "python3"
  },
  "language_info": {
   "codemirror_mode": {
    "name": "ipython",
    "version": 3
   },
   "file_extension": ".py",
   "mimetype": "text/x-python",
   "name": "python",
   "nbconvert_exporter": "python",
   "pygments_lexer": "ipython3",
   "version": "3.5.2"
  }
 },
 "nbformat": 4,
 "nbformat_minor": 2
}
