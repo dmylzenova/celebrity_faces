{
 "cells": [
  {
   "cell_type": "code",
   "execution_count": 1,
   "metadata": {},
   "outputs": [],
   "source": [
    "import re\n",
    "import pandas as pd\n",
    "import numpy as np\n",
    "import csv\n",
    "\n",
    "import pylsh"
   ]
  },
  {
   "cell_type": "code",
   "execution_count": 2,
   "metadata": {},
   "outputs": [],
   "source": [
    "# cropped_embeddings_path = 'data/cropped_embeddings.csv'\n",
    "# split_file_path = b'data/split.txt'\n",
    "# index_dir_path = b'data/index/'\n",
    "# index_embedding_path = b'data/index_embedding.txt'"
   ]
  },
  {
   "cell_type": "code",
   "execution_count": 3,
   "metadata": {},
   "outputs": [],
   "source": [
    "cropped_embeddings_path = 'data/180_embeddings_10.csv'\n",
    "split_file_path = b'data/split_180_10.txt'\n",
    "index_dir_path = b'data/index_180_10/'\n",
    "index_embedding_path = b'data/index_embedding_180_10.txt'"
   ]
  },
  {
   "cell_type": "markdown",
   "metadata": {},
   "source": [
    "### Считаем эмбеддинги"
   ]
  },
  {
   "cell_type": "code",
   "execution_count": 4,
   "metadata": {},
   "outputs": [],
   "source": [
    "embeddings = pd.read_csv(cropped_embeddings_path, names=['index', 'embedding'], dtype=str, skiprows=1)"
   ]
  },
  {
   "cell_type": "code",
   "execution_count": 5,
   "metadata": {},
   "outputs": [],
   "source": [
    "embeddings['float_values'] = embeddings.embedding.apply(lambda x: re.sub(' +', ' ', str(x).replace('\\n', ' ')\n",
    "                                                                         ).replace('[', '') \\\n",
    "                                                                          .replace(']', '') \\\n",
    "                                                                          .split(' '))"
   ]
  },
  {
   "cell_type": "code",
   "execution_count": 6,
   "metadata": {},
   "outputs": [
    {
     "data": {
      "text/html": [
       "<div>\n",
       "<style scoped>\n",
       "    .dataframe tbody tr th:only-of-type {\n",
       "        vertical-align: middle;\n",
       "    }\n",
       "\n",
       "    .dataframe tbody tr th {\n",
       "        vertical-align: top;\n",
       "    }\n",
       "\n",
       "    .dataframe thead th {\n",
       "        text-align: right;\n",
       "    }\n",
       "</style>\n",
       "<table border=\"1\" class=\"dataframe\">\n",
       "  <thead>\n",
       "    <tr style=\"text-align: right;\">\n",
       "      <th></th>\n",
       "      <th>index</th>\n",
       "      <th>embedding</th>\n",
       "      <th>float_values</th>\n",
       "    </tr>\n",
       "  </thead>\n",
       "  <tbody>\n",
       "    <tr>\n",
       "      <th>0</th>\n",
       "      <td>158010</td>\n",
       "      <td>[-0.00369041 -0.0213368   0.07341253  0.078012...</td>\n",
       "      <td>[-0.00369041, -0.0213368, 0.07341253, 0.078012...</td>\n",
       "    </tr>\n",
       "    <tr>\n",
       "      <th>1</th>\n",
       "      <td>022165</td>\n",
       "      <td>[ 0.0307334   0.06088833 -0.03433435  0.063270...</td>\n",
       "      <td>[, 0.0307334, 0.06088833, -0.03433435, 0.06327...</td>\n",
       "    </tr>\n",
       "    <tr>\n",
       "      <th>2</th>\n",
       "      <td>132042</td>\n",
       "      <td>[-0.07374     0.02945836  0.01389108  0.079619...</td>\n",
       "      <td>[-0.07374, 0.02945836, 0.01389108, 0.0796191, ...</td>\n",
       "    </tr>\n",
       "    <tr>\n",
       "      <th>3</th>\n",
       "      <td>155786</td>\n",
       "      <td>[ 0.02495605  0.05409848  0.03243562  0.015922...</td>\n",
       "      <td>[, 0.02495605, 0.05409848, 0.03243562, 0.01592...</td>\n",
       "    </tr>\n",
       "    <tr>\n",
       "      <th>4</th>\n",
       "      <td>125454</td>\n",
       "      <td>[ 0.01629704  0.04322517 -0.02721315  0.018647...</td>\n",
       "      <td>[, 0.01629704, 0.04322517, -0.02721315, 0.0186...</td>\n",
       "    </tr>\n",
       "    <tr>\n",
       "      <th>5</th>\n",
       "      <td>050116</td>\n",
       "      <td>[ 0.00113529  0.0375592   0.06871831  0.018814...</td>\n",
       "      <td>[, 0.00113529, 0.0375592, 0.06871831, 0.018814...</td>\n",
       "    </tr>\n",
       "    <tr>\n",
       "      <th>6</th>\n",
       "      <td>075703</td>\n",
       "      <td>[-0.03829266  0.05180363 -0.02427763  0.056264...</td>\n",
       "      <td>[-0.03829266, 0.05180363, -0.02427763, 0.05626...</td>\n",
       "    </tr>\n",
       "    <tr>\n",
       "      <th>7</th>\n",
       "      <td>031950</td>\n",
       "      <td>[ 0.04344548  0.05020187  0.0245621   0.004034...</td>\n",
       "      <td>[, 0.04344548, 0.05020187, 0.0245621, 0.004034...</td>\n",
       "    </tr>\n",
       "    <tr>\n",
       "      <th>8</th>\n",
       "      <td>037944</td>\n",
       "      <td>[ 0.00137013  0.05032481  0.04603359  0.020719...</td>\n",
       "      <td>[, 0.00137013, 0.05032481, 0.04603359, 0.02071...</td>\n",
       "    </tr>\n",
       "    <tr>\n",
       "      <th>9</th>\n",
       "      <td>114775</td>\n",
       "      <td>[-0.00905234  0.03295874  0.0411616   0.047566...</td>\n",
       "      <td>[-0.00905234, 0.03295874, 0.0411616, 0.0475662...</td>\n",
       "    </tr>\n",
       "  </tbody>\n",
       "</table>\n",
       "</div>"
      ],
      "text/plain": [
       "    index                                          embedding  \\\n",
       "0  158010  [-0.00369041 -0.0213368   0.07341253  0.078012...   \n",
       "1  022165  [ 0.0307334   0.06088833 -0.03433435  0.063270...   \n",
       "2  132042  [-0.07374     0.02945836  0.01389108  0.079619...   \n",
       "3  155786  [ 0.02495605  0.05409848  0.03243562  0.015922...   \n",
       "4  125454  [ 0.01629704  0.04322517 -0.02721315  0.018647...   \n",
       "5  050116  [ 0.00113529  0.0375592   0.06871831  0.018814...   \n",
       "6  075703  [-0.03829266  0.05180363 -0.02427763  0.056264...   \n",
       "7  031950  [ 0.04344548  0.05020187  0.0245621   0.004034...   \n",
       "8  037944  [ 0.00137013  0.05032481  0.04603359  0.020719...   \n",
       "9  114775  [-0.00905234  0.03295874  0.0411616   0.047566...   \n",
       "\n",
       "                                        float_values  \n",
       "0  [-0.00369041, -0.0213368, 0.07341253, 0.078012...  \n",
       "1  [, 0.0307334, 0.06088833, -0.03433435, 0.06327...  \n",
       "2  [-0.07374, 0.02945836, 0.01389108, 0.0796191, ...  \n",
       "3  [, 0.02495605, 0.05409848, 0.03243562, 0.01592...  \n",
       "4  [, 0.01629704, 0.04322517, -0.02721315, 0.0186...  \n",
       "5  [, 0.00113529, 0.0375592, 0.06871831, 0.018814...  \n",
       "6  [-0.03829266, 0.05180363, -0.02427763, 0.05626...  \n",
       "7  [, 0.04344548, 0.05020187, 0.0245621, 0.004034...  \n",
       "8  [, 0.00137013, 0.05032481, 0.04603359, 0.02071...  \n",
       "9  [-0.00905234, 0.03295874, 0.0411616, 0.0475662...  "
      ]
     },
     "execution_count": 6,
     "metadata": {},
     "output_type": "execute_result"
    }
   ],
   "source": [
    "embeddings[:10]"
   ]
  },
  {
   "cell_type": "code",
   "execution_count": 7,
   "metadata": {},
   "outputs": [],
   "source": [
    "embeddings['float_values'] = \\\n",
    "    embeddings['float_values'].apply(lambda x:np.array(list(map(float, [item for item in x if item != '']))))"
   ]
  },
  {
   "cell_type": "code",
   "execution_count": 8,
   "metadata": {},
   "outputs": [],
   "source": [
    "embeddings[\"index\"] = embeddings[\"index\"].apply(int)"
   ]
  },
  {
   "cell_type": "code",
   "execution_count": 9,
   "metadata": {},
   "outputs": [
    {
     "data": {
      "text/plain": [
       "128"
      ]
     },
     "execution_count": 9,
     "metadata": {},
     "output_type": "execute_result"
    }
   ],
   "source": [
    "len(embeddings.float_values[0])"
   ]
  },
  {
   "cell_type": "code",
   "execution_count": 10,
   "metadata": {},
   "outputs": [],
   "source": [
    "embeddings_list = embeddings.float_values.values.tolist()"
   ]
  },
  {
   "cell_type": "code",
   "execution_count": 11,
   "metadata": {},
   "outputs": [
    {
     "data": {
      "text/plain": [
       "202589"
      ]
     },
     "execution_count": 11,
     "metadata": {},
     "output_type": "execute_result"
    }
   ],
   "source": [
    "len(embeddings.values)"
   ]
  },
  {
   "cell_type": "markdown",
   "metadata": {},
   "source": [
    "### Заполним LSH"
   ]
  },
  {
   "cell_type": "code",
   "execution_count": 12,
   "metadata": {},
   "outputs": [],
   "source": [
    "index = pylsh.PyLSH(50, 64, 128)"
   ]
  },
  {
   "cell_type": "code",
   "execution_count": 14,
   "metadata": {},
   "outputs": [],
   "source": [
    "index.create_splits()"
   ]
  },
  {
   "cell_type": "code",
   "execution_count": 15,
   "metadata": {},
   "outputs": [],
   "source": [
    "assert index.write_planes_to_file(split_file_path)"
   ]
  },
  {
   "cell_type": "code",
   "execution_count": 16,
   "metadata": {},
   "outputs": [
    {
     "name": "stdout",
     "output_type": "stream",
     "text": [
      "0\n",
      "10000\n",
      "20000\n",
      "30000\n",
      "40000\n",
      "50000\n",
      "60000\n",
      "70000\n",
      "80000\n",
      "90000\n",
      "100000\n",
      "110000\n",
      "120000\n",
      "130000\n",
      "140000\n",
      "150000\n",
      "160000\n",
      "170000\n",
      "180000\n",
      "190000\n",
      "200000\n"
     ]
    }
   ],
   "source": [
    "for i, (img_id, cur_emb) in enumerate(zip(embeddings[\"index\"], embeddings.float_values)):\n",
    "    index.add_to_table(img_id, cur_emb)\n",
    "    if i % 10000 == 0:\n",
    "        print(i)"
   ]
  },
  {
   "cell_type": "code",
   "execution_count": 17,
   "metadata": {},
   "outputs": [],
   "source": [
    "assert index.write_hash_tables_to_files(index_dir_path)"
   ]
  },
  {
   "cell_type": "code",
   "execution_count": 18,
   "metadata": {},
   "outputs": [],
   "source": [
    "assert index.write_index_embedding_dict(index_embedding_path)"
   ]
  },
  {
   "cell_type": "markdown",
   "metadata": {},
   "source": [
    "## А теперь найдем для них соседей"
   ]
  },
  {
   "cell_type": "code",
   "execution_count": 19,
   "metadata": {},
   "outputs": [
    {
     "data": {
      "text/plain": [
       "[69268, 107598, 190231, 31141, 107750, 90021, 103535]"
      ]
     },
     "execution_count": 19,
     "metadata": {},
     "output_type": "execute_result"
    }
   ],
   "source": [
    "bad = index.find_k_neighbors(7, embeddings.loc[127, 'float_values'])\n",
    "bad"
   ]
  },
  {
   "cell_type": "code",
   "execution_count": null,
   "metadata": {},
   "outputs": [],
   "source": [
    "good = index.dummy_k_neighbors(7, embeddings[\"index\"].values.tolist(), embeddings_list, \\\n",
    "                               embeddings.loc[127, 'float_values'])\n",
    "good"
   ]
  },
  {
   "cell_type": "code",
   "execution_count": 52,
   "metadata": {},
   "outputs": [
    {
     "data": {
      "text/plain": [
       "6"
      ]
     },
     "execution_count": 52,
     "metadata": {},
     "output_type": "execute_result"
    }
   ],
   "source": [
    "len(set(bad) & set(good))"
   ]
  },
  {
   "cell_type": "code",
   "execution_count": 53,
   "metadata": {},
   "outputs": [
    {
     "data": {
      "text/plain": [
       "0.04644810397129984"
      ]
     },
     "execution_count": 53,
     "metadata": {},
     "output_type": "execute_result"
    }
   ],
   "source": [
    "index.calculate_distance(embeddings.loc[127, 'float_values'], embeddings.loc[35, 'float_values'])"
   ]
  },
  {
   "cell_type": "code",
   "execution_count": 54,
   "metadata": {},
   "outputs": [
    {
     "data": {
      "text/plain": [
       "0.0"
      ]
     },
     "execution_count": 54,
     "metadata": {},
     "output_type": "execute_result"
    }
   ],
   "source": [
    "index.calculate_distance(embeddings.loc[127, 'float_values'], embeddings.loc[127, 'float_values'])"
   ]
  },
  {
   "cell_type": "code",
   "execution_count": 55,
   "metadata": {},
   "outputs": [
    {
     "data": {
      "text/plain": [
       "0.0752714463461629"
      ]
     },
     "execution_count": 55,
     "metadata": {},
     "output_type": "execute_result"
    }
   ],
   "source": [
    "index.calculate_distance(embeddings.loc[127, 'float_values'], embeddings.loc[23882, 'float_values'])"
   ]
  },
  {
   "cell_type": "markdown",
   "metadata": {},
   "source": [
    "### 6 из 7 ближайших соседей совпадают с результатом полного перебора."
   ]
  },
  {
   "cell_type": "markdown",
   "metadata": {},
   "source": [
    "## А теперь сделаем тоже самое, но на большем числе примеров"
   ]
  },
  {
   "cell_type": "code",
   "execution_count": 56,
   "metadata": {},
   "outputs": [
    {
     "name": "stdout",
     "output_type": "stream",
     "text": [
      "0: 1.000000\n",
      "10: 2.909091\n",
      "20: 3.571429\n",
      "30: 3.580645\n",
      "40: 3.682927\n",
      "50: 3.882353\n",
      "60: 3.868852\n",
      "70: 3.901408\n",
      "80: 3.777778\n",
      "90: 3.791209\n",
      "99: 3.950000\n"
     ]
    }
   ],
   "source": [
    "intersection_results = []\n",
    "for i in range(100):\n",
    "    approx = index.find_k_neighbors(7, embeddings.loc[i, 'float_values'])\n",
    "    accurate = index.dummy_k_neighbors(7, embeddings[\"index\"].values.tolist(), embeddings_list, \\\n",
    "                                       embeddings.loc[i, 'float_values'])\n",
    "    intersection_results.append(len(set(approx) & set(accurate)))\n",
    "    if i % 10 == 0:\n",
    "        print(\"%d: %f\" % (i, np.mean(intersection_results)))\n",
    "print(\"%d: %f\" % (i, np.mean(intersection_results)))"
   ]
  },
  {
   "cell_type": "markdown",
   "metadata": {},
   "source": [
    "### Тоже самое - 4 из 7 - not bad!"
   ]
  },
  {
   "cell_type": "markdown",
   "metadata": {},
   "source": [
    "## Сравним скорость:"
   ]
  },
  {
   "cell_type": "code",
   "execution_count": 57,
   "metadata": {},
   "outputs": [
    {
     "name": "stdout",
     "output_type": "stream",
     "text": [
      "1.81 ms ± 250 µs per loop (mean ± std. dev. of 7 runs, 1000 loops each)\n"
     ]
    }
   ],
   "source": [
    "%timeit index.find_k_neighbors(7, embeddings.loc[0, 'float_values'])"
   ]
  },
  {
   "cell_type": "code",
   "execution_count": 58,
   "metadata": {
    "scrolled": true
   },
   "outputs": [
    {
     "name": "stdout",
     "output_type": "stream",
     "text": [
      "1.77 s ± 18.5 ms per loop (mean ± std. dev. of 7 runs, 1 loop each)\n"
     ]
    }
   ],
   "source": [
    "%timeit index.dummy_k_neighbors(7, embeddings[\"index\"].values.tolist(), embeddings_list, \\\n",
    "                         embeddings.loc[0, 'float_values'])"
   ]
  },
  {
   "cell_type": "markdown",
   "metadata": {},
   "source": [
    "### Наш приближенный метод в среднем работает в 500 раза быстрее, чем полный перебор."
   ]
  },
  {
   "cell_type": "markdown",
   "metadata": {},
   "source": [
    "## Проверю как работает инициализация lsh данными с диска"
   ]
  },
  {
   "cell_type": "code",
   "execution_count": 12,
   "metadata": {},
   "outputs": [],
   "source": [
    "index2 = pylsh.PyLSH(50, 64, 128)"
   ]
  },
  {
   "cell_type": "code",
   "execution_count": 13,
   "metadata": {},
   "outputs": [
    {
     "data": {
      "text/plain": [
       "True"
      ]
     },
     "execution_count": 13,
     "metadata": {},
     "output_type": "execute_result"
    }
   ],
   "source": [
    "index2.fill_data_from_files(planes_path=split_file_path, hash_tables_dir_path=index_dir_path,\n",
    "                            index_embedding_dict_path=index_embedding_path)"
   ]
  },
  {
   "cell_type": "code",
   "execution_count": 14,
   "metadata": {},
   "outputs": [
    {
     "data": {
      "text/plain": [
       "[132042, 55721, 11491, 144554, 108078, 183074, 179470, 138493, 175826, 93556]"
      ]
     },
     "execution_count": 14,
     "metadata": {},
     "output_type": "execute_result"
    }
   ],
   "source": [
    "approx2 = index2.find_k_neighbors(10, embeddings.loc[2, 'float_values'])\n",
    "approx2"
   ]
  },
  {
   "cell_type": "code",
   "execution_count": null,
   "metadata": {},
   "outputs": [],
   "source": [
    "approx = index.find_k_neighbors(10, embeddings.loc[2, 'float_values'])\n",
    "approx"
   ]
  },
  {
   "cell_type": "code",
   "execution_count": null,
   "metadata": {},
   "outputs": [],
   "source": [
    "approx == approx2"
   ]
  },
  {
   "cell_type": "markdown",
   "metadata": {},
   "source": [
    "### Посмотрим на dummy knn с разным расстоянием"
   ]
  },
  {
   "cell_type": "code",
   "execution_count": 15,
   "metadata": {},
   "outputs": [],
   "source": [
    "accurate_euc = index2.dummy_k_neighbors(1000, embeddings[\"index\"].values.tolist(), embeddings_list, \\\n",
    "                                        embeddings.loc[0, 'float_values'], use_euclidean=True)"
   ]
  },
  {
   "cell_type": "code",
   "execution_count": 16,
   "metadata": {},
   "outputs": [],
   "source": [
    "accurate_cos = index2.dummy_k_neighbors(1000, embeddings[\"index\"].values.tolist(), embeddings_list, \\\n",
    "                                        embeddings.loc[0, 'float_values'], use_euclidean=False)"
   ]
  },
  {
   "cell_type": "code",
   "execution_count": 17,
   "metadata": {},
   "outputs": [
    {
     "data": {
      "text/plain": [
       "True"
      ]
     },
     "execution_count": 17,
     "metadata": {},
     "output_type": "execute_result"
    }
   ],
   "source": [
    "accurate_euc == accurate_cos"
   ]
  },
  {
   "cell_type": "code",
   "execution_count": 18,
   "metadata": {},
   "outputs": [
    {
     "data": {
      "text/plain": [
       "0.17675276732524225"
      ]
     },
     "execution_count": 18,
     "metadata": {},
     "output_type": "execute_result"
    }
   ],
   "source": [
    "index2.calculate_distance(embeddings.loc[0, 'float_values'], embeddings.loc[10, 'float_values'])"
   ]
  },
  {
   "cell_type": "code",
   "execution_count": 19,
   "metadata": {},
   "outputs": [
    {
     "data": {
      "text/plain": [
       "0.5945633537169169"
      ]
     },
     "execution_count": 19,
     "metadata": {},
     "output_type": "execute_result"
    }
   ],
   "source": [
    "index2.calculate_euclidean_distance(embeddings.loc[0, 'float_values'], embeddings.loc[10, 'float_values'])"
   ]
  },
  {
   "cell_type": "code",
   "execution_count": null,
   "metadata": {},
   "outputs": [],
   "source": []
  }
 ],
 "metadata": {
  "kernelspec": {
   "display_name": "Python 3",
   "language": "python",
   "name": "python3"
  },
  "language_info": {
   "codemirror_mode": {
    "name": "ipython",
    "version": 3
   },
   "file_extension": ".py",
   "mimetype": "text/x-python",
   "name": "python",
   "nbconvert_exporter": "python",
   "pygments_lexer": "ipython3",
   "version": "3.5.2"
  }
 },
 "nbformat": 4,
 "nbformat_minor": 2
}
